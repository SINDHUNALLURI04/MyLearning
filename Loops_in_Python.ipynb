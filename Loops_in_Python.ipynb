{
 "cells": [
  {
   "cell_type": "code",
   "execution_count": null,
   "id": "3bc48d75-55aa-49fa-af1f-c942af90461c",
   "metadata": {
    "scrolled": true
   },
   "outputs": [],
   "source": [
    "## # Multiplication Tables using loops\n",
    "num=int(input(\"Enter the num for mutiplication table\")) # int to cast str into Integer\n",
    "end=int(input(\"Enter the range\"))\n",
    "for i in range(1, end+1):\n",
    "    print(f\"{num} * {i} = {i*end}\")\n"
   ]
  },
  {
   "cell_type": "code",
   "execution_count": 4,
   "id": "8f4e9b6f-f0b0-4f98-8b80-af8888964de2",
   "metadata": {},
   "outputs": [
    {
     "name": "stdout",
     "output_type": "stream",
     "text": [
      "4.0\n"
     ]
    }
   ],
   "source": [
    "import math\n",
    "print(math.sqrt(16))\n",
    "math\n"
   ]
  },
  {
   "cell_type": "code",
   "execution_count": 39,
   "id": "656e50a3-336b-4bf5-9b96-15108e1ea298",
   "metadata": {},
   "outputs": [
    {
     "name": "stdout",
     "output_type": "stream",
     "text": [
      "1 \n",
      "2 2 \n",
      "3 3 3 \n",
      "4 4 4 4 \n"
     ]
    }
   ],
   "source": [
    "# patterns using loops\n",
    "for i in range(1,5):\n",
    "     for j in range(i):\n",
    "        print(i, end=\" \")\n",
    "     print()\n"
   ]
  },
  {
   "cell_type": "code",
   "execution_count": 40,
   "id": "2e571ba0-df59-4f8d-8a0f-d002aa9e4e99",
   "metadata": {},
   "outputs": [
    {
     "name": "stdin",
     "output_type": "stream",
     "text": [
      "Enter rows:  5\n",
      "Enter columns:  5\n"
     ]
    },
    {
     "name": "stdout",
     "output_type": "stream",
     "text": [
      "* * * * * \n",
      "* * * * * \n",
      "* * * * * \n",
      "* * * * * \n",
      "* * * * * \n"
     ]
    }
   ],
   "source": [
    "rows=int(input(\"Enter rows: \"))\n",
    "cols=int(input(\"Enter columns: \"))\n",
    "\n",
    "for i in range(rows):\n",
    "    for j in range(cols):\n",
    "        print(\"*\", end=' ')\n",
    "    print()\n",
    "    "
   ]
  },
  {
   "cell_type": "code",
   "execution_count": 67,
   "id": "c0e55309-04f3-4d61-a76c-966416859654",
   "metadata": {},
   "outputs": [
    {
     "name": "stdout",
     "output_type": "stream",
     "text": [
      "1 2 3 4 5 6 7 8 9 10 \n",
      "end of the loop\n"
     ]
    }
   ],
   "source": [
    "num=0\n",
    "while(num<10):\n",
    "    num += 1\n",
    "    print(num, end=\" \")\n",
    "print()\n",
    "print(\"end of the loop\")"
   ]
  },
  {
   "cell_type": "code",
   "execution_count": null,
   "id": "a3f65ea5-a3a5-4c38-b1e3-ff166953ed7d",
   "metadata": {},
   "outputs": [],
   "source": []
  },
  {
   "cell_type": "code",
   "execution_count": null,
   "id": "585c2dc0-480a-4eaf-8dc3-77ce930e1460",
   "metadata": {},
   "outputs": [],
   "source": [
    "anaconda_projects/a490089c-d4ea-4e7d-b00e-1f3a7f8d3d88/StringPractice.ipynbanaconda_projects/a490089c-d4ea-4e7d-b00e-1f3a7f8d3d88/StringPractice.ipynb"
   ]
  }
 ],
 "metadata": {
  "kernelspec": {
   "display_name": "Python [conda env:base] *",
   "language": "python",
   "name": "conda-base-py"
  },
  "language_info": {
   "codemirror_mode": {
    "name": "ipython",
    "version": 3
   },
   "file_extension": ".py",
   "mimetype": "text/x-python",
   "name": "python",
   "nbconvert_exporter": "python",
   "pygments_lexer": "ipython3",
   "version": "3.13.5"
  }
 },
 "nbformat": 4,
 "nbformat_minor": 5
}
